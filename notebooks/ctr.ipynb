{
 "cells": [
  {
   "cell_type": "code",
   "execution_count": 1,
   "metadata": {},
   "outputs": [],
   "source": [
    "import numpy as np\n",
    "import pandas as pd"
   ]
  },
  {
   "cell_type": "code",
   "execution_count": 2,
   "metadata": {},
   "outputs": [
    {
     "data": {
      "text/html": [
       "<div>\n",
       "<style scoped>\n",
       "    .dataframe tbody tr th:only-of-type {\n",
       "        vertical-align: middle;\n",
       "    }\n",
       "\n",
       "    .dataframe tbody tr th {\n",
       "        vertical-align: top;\n",
       "    }\n",
       "\n",
       "    .dataframe thead th {\n",
       "        text-align: right;\n",
       "    }\n",
       "</style>\n",
       "<table border=\"1\" class=\"dataframe\">\n",
       "  <thead>\n",
       "    <tr style=\"text-align: right;\">\n",
       "      <th></th>\n",
       "      <th>user_id</th>\n",
       "      <th>n_imp</th>\n",
       "      <th>n_click</th>\n",
       "    </tr>\n",
       "  </thead>\n",
       "  <tbody>\n",
       "    <tr>\n",
       "      <th>0</th>\n",
       "      <td>477</td>\n",
       "      <td>912</td>\n",
       "      <td>335</td>\n",
       "    </tr>\n",
       "    <tr>\n",
       "      <th>1</th>\n",
       "      <td>954</td>\n",
       "      <td>61</td>\n",
       "      <td>40</td>\n",
       "    </tr>\n",
       "    <tr>\n",
       "      <th>2</th>\n",
       "      <td>26</td>\n",
       "      <td>268</td>\n",
       "      <td>109</td>\n",
       "    </tr>\n",
       "    <tr>\n",
       "      <th>3</th>\n",
       "      <td>667</td>\n",
       "      <td>575</td>\n",
       "      <td>327</td>\n",
       "    </tr>\n",
       "    <tr>\n",
       "      <th>4</th>\n",
       "      <td>714</td>\n",
       "      <td>883</td>\n",
       "      <td>448</td>\n",
       "    </tr>\n",
       "    <tr>\n",
       "      <th>...</th>\n",
       "      <td>...</td>\n",
       "      <td>...</td>\n",
       "      <td>...</td>\n",
       "    </tr>\n",
       "    <tr>\n",
       "      <th>99995</th>\n",
       "      <td>660</td>\n",
       "      <td>788</td>\n",
       "      <td>765</td>\n",
       "    </tr>\n",
       "    <tr>\n",
       "      <th>99996</th>\n",
       "      <td>490</td>\n",
       "      <td>554</td>\n",
       "      <td>394</td>\n",
       "    </tr>\n",
       "    <tr>\n",
       "      <th>99997</th>\n",
       "      <td>968</td>\n",
       "      <td>840</td>\n",
       "      <td>576</td>\n",
       "    </tr>\n",
       "    <tr>\n",
       "      <th>99998</th>\n",
       "      <td>161</td>\n",
       "      <td>927</td>\n",
       "      <td>925</td>\n",
       "    </tr>\n",
       "    <tr>\n",
       "      <th>99999</th>\n",
       "      <td>727</td>\n",
       "      <td>874</td>\n",
       "      <td>607</td>\n",
       "    </tr>\n",
       "  </tbody>\n",
       "</table>\n",
       "<p>100000 rows × 3 columns</p>\n",
       "</div>"
      ],
      "text/plain": [
       "       user_id  n_imp  n_click\n",
       "0          477    912      335\n",
       "1          954     61       40\n",
       "2           26    268      109\n",
       "3          667    575      327\n",
       "4          714    883      448\n",
       "...        ...    ...      ...\n",
       "99995      660    788      765\n",
       "99996      490    554      394\n",
       "99997      968    840      576\n",
       "99998      161    927      925\n",
       "99999      727    874      607\n",
       "\n",
       "[100000 rows x 3 columns]"
      ]
     },
     "execution_count": 2,
     "metadata": {},
     "output_type": "execute_result"
    }
   ],
   "source": [
    "df = pd.DataFrame(\n",
    "    dict(\n",
    "        user_id=np.random.randint(0, 1000, size=100000),\n",
    "        n_imp=np.random.randint(0, 1001, size=100000),\n",
    "    )\n",
    ")\n",
    "df[\"n_click\"] = df.n_imp.apply(lambda x: np.random.randint(0, x+1))\n",
    "df"
   ]
  },
  {
   "cell_type": "code",
   "execution_count": 3,
   "metadata": {},
   "outputs": [],
   "source": [
    "from sklearn.model_selection import train_test_split\n",
    "\n",
    "user_ids = df.user_id.unique()\n",
    "\n",
    "def data_loader(i: int) -> list[pd.DataFrame]:\n",
    "    return [\n",
    "        df[df.user_id.isin(uids)]\n",
    "        for uids in train_test_split(user_ids, test_size=.5, random_state=i)\n",
    "    ]"
   ]
  },
  {
   "cell_type": "code",
   "execution_count": 4,
   "metadata": {},
   "outputs": [],
   "source": [
    "from t_ab.ctr import ImpressionBasedCTRTtest, UserBasedCTRTtest\n",
    "\n",
    "\n",
    "def ibtest(dfs: list[pd.DataFrame]) -> float:\n",
    "    _ibtest = ImpressionBasedCTRTtest(\"user_id\", \"n_imp\")\n",
    "    return _ibtest(*dfs, \"n_click\")[1].pvalue\n",
    "\n",
    "\n",
    "def ubtest(dfs: list[pd.DataFrame]) -> float:\n",
    "    _ubtest = UserBasedCTRTtest(\"user_id\", \"n_imp\")\n",
    "    return _ubtest(*dfs, \"n_click\")[1].pvalue"
   ]
  },
  {
   "cell_type": "code",
   "execution_count": 5,
   "metadata": {},
   "outputs": [],
   "source": [
    "from t_ab.aa import AATest"
   ]
  },
  {
   "cell_type": "code",
   "execution_count": 6,
   "metadata": {},
   "outputs": [],
   "source": [
    "results = AATest()(data_loader, ibtest, ubtest)"
   ]
  },
  {
   "cell_type": "code",
   "execution_count": 7,
   "metadata": {},
   "outputs": [
    {
     "name": "stdout",
     "output_type": "stream",
     "text": [
      "0.7626859313692751 False\n",
      "0.5209777078908284 False\n"
     ]
    }
   ],
   "source": [
    "for result in results:\n",
    "    print(result.pvalue, result.is_rejected)"
   ]
  },
  {
   "cell_type": "code",
   "execution_count": null,
   "metadata": {},
   "outputs": [],
   "source": []
  }
 ],
 "metadata": {
  "kernelspec": {
   "display_name": "Python 3.11.0 ('.venv': poetry)",
   "language": "python",
   "name": "python3"
  },
  "language_info": {
   "codemirror_mode": {
    "name": "ipython",
    "version": 3
   },
   "file_extension": ".py",
   "mimetype": "text/x-python",
   "name": "python",
   "nbconvert_exporter": "python",
   "pygments_lexer": "ipython3",
   "version": "3.11.0"
  },
  "orig_nbformat": 4,
  "vscode": {
   "interpreter": {
    "hash": "fbafa2f9565b0dcc05f896b57238ad919868c0b5017f5bc75d373891f92db64a"
   }
  }
 },
 "nbformat": 4,
 "nbformat_minor": 2
}
