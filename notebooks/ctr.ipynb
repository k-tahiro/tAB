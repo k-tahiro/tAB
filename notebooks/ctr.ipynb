{
 "cells": [
  {
   "cell_type": "code",
   "execution_count": 1,
   "metadata": {},
   "outputs": [],
   "source": [
    "import numpy as np\n",
    "import pandas as pd"
   ]
  },
  {
   "cell_type": "code",
   "execution_count": 2,
   "metadata": {},
   "outputs": [
    {
     "data": {
      "text/html": [
       "<div>\n",
       "<style scoped>\n",
       "    .dataframe tbody tr th:only-of-type {\n",
       "        vertical-align: middle;\n",
       "    }\n",
       "\n",
       "    .dataframe tbody tr th {\n",
       "        vertical-align: top;\n",
       "    }\n",
       "\n",
       "    .dataframe thead th {\n",
       "        text-align: right;\n",
       "    }\n",
       "</style>\n",
       "<table border=\"1\" class=\"dataframe\">\n",
       "  <thead>\n",
       "    <tr style=\"text-align: right;\">\n",
       "      <th></th>\n",
       "      <th>user_id</th>\n",
       "      <th>n_imp</th>\n",
       "      <th>n_click</th>\n",
       "    </tr>\n",
       "  </thead>\n",
       "  <tbody>\n",
       "    <tr>\n",
       "      <th>0</th>\n",
       "      <td>862</td>\n",
       "      <td>337</td>\n",
       "      <td>226</td>\n",
       "    </tr>\n",
       "    <tr>\n",
       "      <th>1</th>\n",
       "      <td>134</td>\n",
       "      <td>643</td>\n",
       "      <td>148</td>\n",
       "    </tr>\n",
       "    <tr>\n",
       "      <th>2</th>\n",
       "      <td>936</td>\n",
       "      <td>969</td>\n",
       "      <td>698</td>\n",
       "    </tr>\n",
       "    <tr>\n",
       "      <th>3</th>\n",
       "      <td>568</td>\n",
       "      <td>897</td>\n",
       "      <td>874</td>\n",
       "    </tr>\n",
       "    <tr>\n",
       "      <th>4</th>\n",
       "      <td>274</td>\n",
       "      <td>257</td>\n",
       "      <td>218</td>\n",
       "    </tr>\n",
       "    <tr>\n",
       "      <th>...</th>\n",
       "      <td>...</td>\n",
       "      <td>...</td>\n",
       "      <td>...</td>\n",
       "    </tr>\n",
       "    <tr>\n",
       "      <th>99995</th>\n",
       "      <td>787</td>\n",
       "      <td>869</td>\n",
       "      <td>118</td>\n",
       "    </tr>\n",
       "    <tr>\n",
       "      <th>99996</th>\n",
       "      <td>3</td>\n",
       "      <td>767</td>\n",
       "      <td>369</td>\n",
       "    </tr>\n",
       "    <tr>\n",
       "      <th>99997</th>\n",
       "      <td>860</td>\n",
       "      <td>486</td>\n",
       "      <td>342</td>\n",
       "    </tr>\n",
       "    <tr>\n",
       "      <th>99998</th>\n",
       "      <td>249</td>\n",
       "      <td>745</td>\n",
       "      <td>581</td>\n",
       "    </tr>\n",
       "    <tr>\n",
       "      <th>99999</th>\n",
       "      <td>455</td>\n",
       "      <td>708</td>\n",
       "      <td>664</td>\n",
       "    </tr>\n",
       "  </tbody>\n",
       "</table>\n",
       "<p>100000 rows × 3 columns</p>\n",
       "</div>"
      ],
      "text/plain": [
       "       user_id  n_imp  n_click\n",
       "0          862    337      226\n",
       "1          134    643      148\n",
       "2          936    969      698\n",
       "3          568    897      874\n",
       "4          274    257      218\n",
       "...        ...    ...      ...\n",
       "99995      787    869      118\n",
       "99996        3    767      369\n",
       "99997      860    486      342\n",
       "99998      249    745      581\n",
       "99999      455    708      664\n",
       "\n",
       "[100000 rows x 3 columns]"
      ]
     },
     "execution_count": 2,
     "metadata": {},
     "output_type": "execute_result"
    }
   ],
   "source": [
    "df = pd.DataFrame(\n",
    "    dict(\n",
    "        user_id=np.random.randint(0, 1000, size=100000),\n",
    "        n_imp=np.random.randint(1, 1001, size=100000),\n",
    "    )\n",
    ")\n",
    "df[\"n_click\"] = df.n_imp.apply(lambda x: np.random.randint(0, x+1))\n",
    "df"
   ]
  },
  {
   "cell_type": "code",
   "execution_count": 3,
   "metadata": {},
   "outputs": [],
   "source": [
    "from sklearn.model_selection import train_test_split\n",
    "\n",
    "user_ids = df.user_id.unique()\n",
    "\n",
    "def data_loader(i: int) -> list[pd.DataFrame]:\n",
    "    return [\n",
    "        df[df.user_id.isin(uids)]\n",
    "        for uids in train_test_split(user_ids, test_size=.5, random_state=i)\n",
    "    ]"
   ]
  },
  {
   "cell_type": "code",
   "execution_count": 4,
   "metadata": {},
   "outputs": [],
   "source": [
    "from t_ab.ctr import ImpressionBasedCTRTtest, UserBasedCTRTtest\n",
    "\n",
    "_ibtest = ImpressionBasedCTRTtest(\"user_id\", \"n_imp\")\n",
    "_ubtest = UserBasedCTRTtest(\"user_id\", \"n_imp\")\n",
    "\n",
    "\n",
    "def ibtest(dfs: list[pd.DataFrame]) -> float:\n",
    "    return _ibtest(*dfs, \"n_click\")[1].pvalue\n",
    "\n",
    "\n",
    "def ubtest(dfs: list[pd.DataFrame]) -> float:\n",
    "    return _ubtest(*dfs, \"n_click\")[1].pvalue"
   ]
  },
  {
   "cell_type": "code",
   "execution_count": 5,
   "metadata": {},
   "outputs": [],
   "source": [
    "from t_ab.aa import AATest"
   ]
  },
  {
   "cell_type": "code",
   "execution_count": 6,
   "metadata": {},
   "outputs": [],
   "source": [
    "aa_test = AATest(data_loader)\n",
    "results = aa_test(ibtest, ubtest)"
   ]
  },
  {
   "cell_type": "code",
   "execution_count": 7,
   "metadata": {},
   "outputs": [
    {
     "name": "stdout",
     "output_type": "stream",
     "text": [
      "0.7615578086199111 False\n",
      "0.3981143930104355 False\n"
     ]
    }
   ],
   "source": [
    "for result in results:\n",
    "    print(result.pvalue, result.is_rejected)"
   ]
  },
  {
   "cell_type": "code",
   "execution_count": null,
   "metadata": {},
   "outputs": [],
   "source": []
  }
 ],
 "metadata": {
  "kernelspec": {
   "display_name": "Python 3.11.0 ('.venv': poetry)",
   "language": "python",
   "name": "python3"
  },
  "language_info": {
   "codemirror_mode": {
    "name": "ipython",
    "version": 3
   },
   "file_extension": ".py",
   "mimetype": "text/x-python",
   "name": "python",
   "nbconvert_exporter": "python",
   "pygments_lexer": "ipython3",
   "version": "3.11.0"
  },
  "orig_nbformat": 4,
  "vscode": {
   "interpreter": {
    "hash": "fbafa2f9565b0dcc05f896b57238ad919868c0b5017f5bc75d373891f92db64a"
   }
  }
 },
 "nbformat": 4,
 "nbformat_minor": 2
}
