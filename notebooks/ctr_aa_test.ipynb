{
 "cells": [
  {
   "cell_type": "code",
   "execution_count": 1,
   "metadata": {},
   "outputs": [],
   "source": [
    "import numpy as np\n",
    "import pandas as pd"
   ]
  },
  {
   "cell_type": "code",
   "execution_count": 2,
   "metadata": {},
   "outputs": [
    {
     "data": {
      "text/html": [
       "<div>\n",
       "<style scoped>\n",
       "    .dataframe tbody tr th:only-of-type {\n",
       "        vertical-align: middle;\n",
       "    }\n",
       "\n",
       "    .dataframe tbody tr th {\n",
       "        vertical-align: top;\n",
       "    }\n",
       "\n",
       "    .dataframe thead th {\n",
       "        text-align: right;\n",
       "    }\n",
       "</style>\n",
       "<table border=\"1\" class=\"dataframe\">\n",
       "  <thead>\n",
       "    <tr style=\"text-align: right;\">\n",
       "      <th></th>\n",
       "      <th>user_id</th>\n",
       "      <th>n_imp</th>\n",
       "      <th>n_click</th>\n",
       "    </tr>\n",
       "  </thead>\n",
       "  <tbody>\n",
       "    <tr>\n",
       "      <th>0</th>\n",
       "      <td>962</td>\n",
       "      <td>41</td>\n",
       "      <td>7</td>\n",
       "    </tr>\n",
       "    <tr>\n",
       "      <th>1</th>\n",
       "      <td>132</td>\n",
       "      <td>75</td>\n",
       "      <td>16</td>\n",
       "    </tr>\n",
       "    <tr>\n",
       "      <th>2</th>\n",
       "      <td>750</td>\n",
       "      <td>58</td>\n",
       "      <td>0</td>\n",
       "    </tr>\n",
       "    <tr>\n",
       "      <th>3</th>\n",
       "      <td>449</td>\n",
       "      <td>28</td>\n",
       "      <td>2</td>\n",
       "    </tr>\n",
       "    <tr>\n",
       "      <th>4</th>\n",
       "      <td>731</td>\n",
       "      <td>9</td>\n",
       "      <td>2</td>\n",
       "    </tr>\n",
       "    <tr>\n",
       "      <th>...</th>\n",
       "      <td>...</td>\n",
       "      <td>...</td>\n",
       "      <td>...</td>\n",
       "    </tr>\n",
       "    <tr>\n",
       "      <th>99995</th>\n",
       "      <td>143</td>\n",
       "      <td>96</td>\n",
       "      <td>4</td>\n",
       "    </tr>\n",
       "    <tr>\n",
       "      <th>99996</th>\n",
       "      <td>279</td>\n",
       "      <td>34</td>\n",
       "      <td>9</td>\n",
       "    </tr>\n",
       "    <tr>\n",
       "      <th>99997</th>\n",
       "      <td>911</td>\n",
       "      <td>44</td>\n",
       "      <td>0</td>\n",
       "    </tr>\n",
       "    <tr>\n",
       "      <th>99998</th>\n",
       "      <td>305</td>\n",
       "      <td>32</td>\n",
       "      <td>5</td>\n",
       "    </tr>\n",
       "    <tr>\n",
       "      <th>99999</th>\n",
       "      <td>978</td>\n",
       "      <td>84</td>\n",
       "      <td>20</td>\n",
       "    </tr>\n",
       "  </tbody>\n",
       "</table>\n",
       "<p>100000 rows × 3 columns</p>\n",
       "</div>"
      ],
      "text/plain": [
       "       user_id  n_imp  n_click\n",
       "0          962     41        7\n",
       "1          132     75       16\n",
       "2          750     58        0\n",
       "3          449     28        2\n",
       "4          731      9        2\n",
       "...        ...    ...      ...\n",
       "99995      143     96        4\n",
       "99996      279     34        9\n",
       "99997      911     44        0\n",
       "99998      305     32        5\n",
       "99999      978     84       20\n",
       "\n",
       "[100000 rows x 3 columns]"
      ]
     },
     "execution_count": 2,
     "metadata": {},
     "output_type": "execute_result"
    }
   ],
   "source": [
    "df = pd.DataFrame(\n",
    "    dict(\n",
    "        user_id=np.random.randint(0, 1000, size=100000),\n",
    "        n_imp=np.random.randint(1, 101, size=100000),\n",
    "    )\n",
    ")\n",
    "df[\"n_click\"] = df.n_imp.apply(lambda x: np.random.randint(0, int(np.ceil((x+1)*.3))))\n",
    "df"
   ]
  },
  {
   "cell_type": "code",
   "execution_count": 3,
   "metadata": {},
   "outputs": [],
   "source": [
    "from t_ab.aa import AATest\n",
    "from t_ab.ctr import ImpressionBasedCTRTtest, UserBasedCTRTtest\n",
    "\n",
    "ibtest = ImpressionBasedCTRTtest(\"user_id\", \"n_imp\", \"n_click\")\n",
    "ubtest = UserBasedCTRTtest(\"user_id\", \"n_imp\", \"n_click\")\n",
    "aa_test = AATest(\n",
    "    {\n",
    "        \"Impression-based CTR\": ibtest,\n",
    "        \"User-based CTR\": ubtest,\n",
    "    }\n",
    ")"
   ]
  },
  {
   "cell_type": "code",
   "execution_count": 4,
   "metadata": {},
   "outputs": [],
   "source": [
    "from typing import Generator\n",
    "from sklearn.model_selection import train_test_split\n",
    "\n",
    "\n",
    "def split_data(values: np.ndarray, n: int, random_state: int = 42) -> Generator[np.ndarray, None, None]:\n",
    "    for i in range(n-1):\n",
    "        vs, values = train_test_split(values, train_size=1/(n-i), random_state=random_state)\n",
    "        yield vs\n",
    "    yield values\n",
    "\n",
    "\n",
    "def dfs_loader(df: pd.DataFrame, col: str, n_groups: int, n_tests: int=1000) -> Generator[list[pd.DataFrame], None, None]:\n",
    "    values = df[col].unique()\n",
    "    for i in range(n_tests):\n",
    "        yield [df[df[col].isin(vs)] for vs in split_data(values, n_groups, i)]"
   ]
  },
  {
   "cell_type": "code",
   "execution_count": 5,
   "metadata": {},
   "outputs": [],
   "source": [
    "aa_test_results = aa_test(dfs_loader(df, \"user_id\", 3, 1000))"
   ]
  },
  {
   "cell_type": "code",
   "execution_count": 6,
   "metadata": {},
   "outputs": [
    {
     "name": "stdout",
     "output_type": "stream",
     "text": [
      "Impression-based CTR\n",
      "(array([False, False, False]), array([0.80030312, 0.80030312, 0.77705159]), 0.016952427508441503, 0.016666666666666666) False\n",
      "User-based CTR\n",
      "(array([False, False, False]), array([0.88447726, 0.88447726, 0.88447726]), 0.016952427508441503, 0.016666666666666666) False\n"
     ]
    }
   ],
   "source": [
    "for test_name, aa_test_result in aa_test_results.items():\n",
    "    print(test_name)\n",
    "    print(aa_test_result.multipletests_result, aa_test_result.is_rejected)"
   ]
  },
  {
   "cell_type": "code",
   "execution_count": 7,
   "metadata": {},
   "outputs": [],
   "source": [
    "from t_ab.ab import ABTest\n",
    "\n",
    "ab_test = ABTest(\n",
    "    {\n",
    "        \"Impression-based CTR\": ibtest,\n",
    "        \"User-based CTR\": ubtest,\n",
    "    }\n",
    ")"
   ]
  },
  {
   "cell_type": "code",
   "execution_count": 8,
   "metadata": {},
   "outputs": [],
   "source": [
    "for dfs in dfs_loader(df, \"user_id\", 3):\n",
    "    ab_test_results = ab_test(dfs)\n",
    "    break"
   ]
  },
  {
   "cell_type": "code",
   "execution_count": 9,
   "metadata": {},
   "outputs": [
    {
     "name": "stdout",
     "output_type": "stream",
     "text": [
      "Impression-based CTR\n",
      "{'(0, 1)': CTRTestResult(statistics=(Statistics(mean=0.14748729184355866, std=0.010323717028923343, nobs=333), Statistics(mean=0.14767316921754495, std=0.010839354211857178, nobs=333)), ttest_result=TtestResult(statistic=-0.22659800271740016, pvalue=0.8208060850563259, is_rejected=False)),\n",
      " '(0, 2)': CTRTestResult(statistics=(Statistics(mean=0.14748729184355866, std=0.010323717028923343, nobs=333), Statistics(mean=0.14837787679410883, std=0.0103962025530665, nobs=334)), ttest_result=TtestResult(statistic=-1.1100557050153523, pvalue=0.2673762536353556, is_rejected=False)),\n",
      " '(1, 2)': CTRTestResult(statistics=(Statistics(mean=0.14767316921754495, std=0.010839354211857178, nobs=333), Statistics(mean=0.14837787679410883, std=0.0103962025530665, nobs=334)), ttest_result=TtestResult(statistic=-0.8568933964416413, pvalue=0.39181248494581045, is_rejected=False))}\n",
      "User-based CTR\n",
      "{'(0, 1)': CTRTestResult(statistics=(Statistics(mean=0.14751669548433902, std=0.010474328936579114, nobs=333), Statistics(mean=0.1477157073213483, std=0.010906229900987306, nobs=333)), ttest_result=TtestResult(statistic=-0.2401642599737233, pvalue=0.8102770441907439, is_rejected=False)),\n",
      " '(0, 2)': CTRTestResult(statistics=(Statistics(mean=0.14751669548433902, std=0.010474328936579114, nobs=333), Statistics(mean=0.1482248052385283, std=0.010464259247999463, nobs=334)), ttest_result=TtestResult(statistic=-0.8734054029232498, pvalue=0.38275742312255645, is_rejected=False)),\n",
      " '(1, 2)': CTRTestResult(statistics=(Statistics(mean=0.1477157073213483, std=0.010906229900987306, nobs=333), Statistics(mean=0.1482248052385283, std=0.010464259247999463, nobs=334)), ttest_result=TtestResult(statistic=-0.6151342792291166, pvalue=0.5386764819788047, is_rejected=False))}\n"
     ]
    }
   ],
   "source": [
    "from pprint import pprint\n",
    "\n",
    "for test_name, ab_test_result in ab_test_results.items():\n",
    "    print(test_name)\n",
    "    pprint(ab_test_result)"
   ]
  },
  {
   "cell_type": "code",
   "execution_count": null,
   "metadata": {},
   "outputs": [],
   "source": []
  }
 ],
 "metadata": {
  "kernelspec": {
   "display_name": "Python 3.10.7 ('.venv': poetry)",
   "language": "python",
   "name": "python3"
  },
  "language_info": {
   "codemirror_mode": {
    "name": "ipython",
    "version": 3
   },
   "file_extension": ".py",
   "mimetype": "text/x-python",
   "name": "python",
   "nbconvert_exporter": "python",
   "pygments_lexer": "ipython3",
   "version": "3.10.8"
  },
  "orig_nbformat": 4,
  "vscode": {
   "interpreter": {
    "hash": "715ddbbd74c0ada6a0637ba36419418757d2ab74dd8132caf075d7a2f4571c43"
   }
  }
 },
 "nbformat": 4,
 "nbformat_minor": 2
}
