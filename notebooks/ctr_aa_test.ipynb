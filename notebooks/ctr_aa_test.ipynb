{
 "cells": [
  {
   "cell_type": "code",
   "execution_count": 1,
   "metadata": {},
   "outputs": [],
   "source": [
    "import numpy as np\n",
    "import pandas as pd"
   ]
  },
  {
   "cell_type": "code",
   "execution_count": 2,
   "metadata": {},
   "outputs": [
    {
     "data": {
      "text/html": [
       "<div>\n",
       "<style scoped>\n",
       "    .dataframe tbody tr th:only-of-type {\n",
       "        vertical-align: middle;\n",
       "    }\n",
       "\n",
       "    .dataframe tbody tr th {\n",
       "        vertical-align: top;\n",
       "    }\n",
       "\n",
       "    .dataframe thead th {\n",
       "        text-align: right;\n",
       "    }\n",
       "</style>\n",
       "<table border=\"1\" class=\"dataframe\">\n",
       "  <thead>\n",
       "    <tr style=\"text-align: right;\">\n",
       "      <th></th>\n",
       "      <th>user_id</th>\n",
       "      <th>n_imp</th>\n",
       "      <th>n_click</th>\n",
       "    </tr>\n",
       "  </thead>\n",
       "  <tbody>\n",
       "    <tr>\n",
       "      <th>0</th>\n",
       "      <td>484</td>\n",
       "      <td>96</td>\n",
       "      <td>14</td>\n",
       "    </tr>\n",
       "    <tr>\n",
       "      <th>1</th>\n",
       "      <td>482</td>\n",
       "      <td>72</td>\n",
       "      <td>4</td>\n",
       "    </tr>\n",
       "    <tr>\n",
       "      <th>2</th>\n",
       "      <td>244</td>\n",
       "      <td>18</td>\n",
       "      <td>1</td>\n",
       "    </tr>\n",
       "    <tr>\n",
       "      <th>3</th>\n",
       "      <td>420</td>\n",
       "      <td>53</td>\n",
       "      <td>13</td>\n",
       "    </tr>\n",
       "    <tr>\n",
       "      <th>4</th>\n",
       "      <td>283</td>\n",
       "      <td>96</td>\n",
       "      <td>14</td>\n",
       "    </tr>\n",
       "    <tr>\n",
       "      <th>...</th>\n",
       "      <td>...</td>\n",
       "      <td>...</td>\n",
       "      <td>...</td>\n",
       "    </tr>\n",
       "    <tr>\n",
       "      <th>99995</th>\n",
       "      <td>505</td>\n",
       "      <td>83</td>\n",
       "      <td>21</td>\n",
       "    </tr>\n",
       "    <tr>\n",
       "      <th>99996</th>\n",
       "      <td>744</td>\n",
       "      <td>84</td>\n",
       "      <td>4</td>\n",
       "    </tr>\n",
       "    <tr>\n",
       "      <th>99997</th>\n",
       "      <td>938</td>\n",
       "      <td>46</td>\n",
       "      <td>0</td>\n",
       "    </tr>\n",
       "    <tr>\n",
       "      <th>99998</th>\n",
       "      <td>350</td>\n",
       "      <td>35</td>\n",
       "      <td>6</td>\n",
       "    </tr>\n",
       "    <tr>\n",
       "      <th>99999</th>\n",
       "      <td>704</td>\n",
       "      <td>97</td>\n",
       "      <td>13</td>\n",
       "    </tr>\n",
       "  </tbody>\n",
       "</table>\n",
       "<p>100000 rows × 3 columns</p>\n",
       "</div>"
      ],
      "text/plain": [
       "       user_id  n_imp  n_click\n",
       "0          484     96       14\n",
       "1          482     72        4\n",
       "2          244     18        1\n",
       "3          420     53       13\n",
       "4          283     96       14\n",
       "...        ...    ...      ...\n",
       "99995      505     83       21\n",
       "99996      744     84        4\n",
       "99997      938     46        0\n",
       "99998      350     35        6\n",
       "99999      704     97       13\n",
       "\n",
       "[100000 rows x 3 columns]"
      ]
     },
     "execution_count": 2,
     "metadata": {},
     "output_type": "execute_result"
    }
   ],
   "source": [
    "df = pd.DataFrame(\n",
    "    dict(\n",
    "        user_id=np.random.randint(0, 1000, size=100000),\n",
    "        n_imp=np.random.randint(1, 101, size=100000),\n",
    "    )\n",
    ")\n",
    "df[\"n_click\"] = df.n_imp.apply(lambda x: np.random.randint(0, int(np.ceil((x+1)*.3))))\n",
    "df"
   ]
  },
  {
   "cell_type": "code",
   "execution_count": 3,
   "metadata": {},
   "outputs": [],
   "source": [
    "from t_ab.frequentist.aa import AATest\n",
    "from t_ab.frequentist.ctr import ImpressionBasedCTRTtest, UserBasedCTRTtest\n",
    "\n",
    "ibtest = ImpressionBasedCTRTtest(\"user_id\", \"n_imp\", \"n_click\")\n",
    "ubtest = UserBasedCTRTtest(\"user_id\", \"n_imp\", \"n_click\")\n",
    "aa_test = AATest(ibtest, ubtest)"
   ]
  },
  {
   "cell_type": "code",
   "execution_count": 4,
   "metadata": {},
   "outputs": [],
   "source": [
    "from typing import Generator\n",
    "from sklearn.model_selection import train_test_split\n",
    "\n",
    "\n",
    "def split_data(values: np.ndarray, n: int, random_state: int = 42) -> Generator[np.ndarray, None, None]:\n",
    "    for i in range(n-1):\n",
    "        vs, values = train_test_split(values, train_size=1/(n-i), random_state=random_state)\n",
    "        yield vs\n",
    "    yield values\n",
    "\n",
    "\n",
    "def dfs_loader(df: pd.DataFrame, col: str, n_groups: int, n_tests: int=1000) -> Generator[list[pd.DataFrame], None, None]:\n",
    "    values = df[col].unique()\n",
    "    for i in range(n_tests):\n",
    "        yield [df[df[col].isin(vs)] for vs in split_data(values, n_groups, i)]"
   ]
  },
  {
   "cell_type": "code",
   "execution_count": 5,
   "metadata": {},
   "outputs": [],
   "source": [
    "aa_test_results = aa_test(dfs_loader(df, \"user_id\", 3, 1000))"
   ]
  },
  {
   "cell_type": "code",
   "execution_count": 6,
   "metadata": {},
   "outputs": [
    {
     "name": "stdout",
     "output_type": "stream",
     "text": [
      "n_click / n_imp (Impression-Based)\n",
      "(array([False, False, False]), array([0.12793981, 0.4152471 , 0.78213848]), 0.016952427508441503, 0.016666666666666666) False\n",
      "n_click / n_imp (User-Based)\n",
      "(array([False, False, False]), array([0.05001447, 0.31765793, 0.97795874]), 0.016952427508441503, 0.016666666666666666) False\n"
     ]
    }
   ],
   "source": [
    "for test_name, aa_test_result in aa_test_results.items():\n",
    "    print(test_name)\n",
    "    print(aa_test_result.multipletests_result, aa_test_result.is_rejected)"
   ]
  },
  {
   "cell_type": "code",
   "execution_count": 7,
   "metadata": {},
   "outputs": [],
   "source": [
    "from t_ab.frequentist.ab import ABTest\n",
    "\n",
    "ab_test = ABTest(ibtest, ubtest)"
   ]
  },
  {
   "cell_type": "code",
   "execution_count": 8,
   "metadata": {},
   "outputs": [],
   "source": [
    "for dfs in dfs_loader(df, \"user_id\", 3):\n",
    "    ab_test_results = ab_test(dfs)\n",
    "    break"
   ]
  },
  {
   "cell_type": "code",
   "execution_count": 9,
   "metadata": {},
   "outputs": [
    {
     "name": "stdout",
     "output_type": "stream",
     "text": [
      "n_click / n_imp (Impression-Based)\n",
      "{'(0, 1)': CTRTestResult(statistics=(Statistics(mean=0.147442380935773, std=0.009526629997433504, nobs=333), Statistics(mean=0.14818872229621036, std=0.010301748759417315, nobs=333)), ttest_result=TtestResult(statistic=-0.9706347622043752, pvalue=0.33208362020327375, is_rejected=False)),\n",
      " '(0, 2)': CTRTestResult(statistics=(Statistics(mean=0.147442380935773, std=0.009526629997433504, nobs=333), Statistics(mean=0.1480690739700291, std=0.01042049436500961, nobs=334)), ttest_result=TtestResult(statistic=-0.8105357648427263, pvalue=0.4179222842030986, is_rejected=False)),\n",
      " '(1, 2)': CTRTestResult(statistics=(Statistics(mean=0.14818872229621036, std=0.010301748759417315, nobs=333), Statistics(mean=0.1480690739700291, std=0.01042049436500961, nobs=334)), ttest_result=TtestResult(statistic=0.14911502958728748, pvalue=0.8815080750032513, is_rejected=False))}\n",
      "n_click / n_imp (User-Based)\n",
      "{'(0, 1)': CTRTestResult(statistics=(Statistics(mean=0.14737134138917832, std=0.009617824748938861, nobs=333), Statistics(mean=0.14818808679539147, std=0.010292862566116353, nobs=333)), ttest_result=TtestResult(statistic=-1.0580059499539463, pvalue=0.2904374716361075, is_rejected=False)),\n",
      " '(0, 2)': CTRTestResult(statistics=(Statistics(mean=0.14737134138917832, std=0.009617824748938861, nobs=333), Statistics(mean=0.14806373176406315, std=0.010471718112864363, nobs=334)), ttest_result=TtestResult(statistic=-0.8892497274932744, pvalue=0.3741904404666826, is_rejected=False)),\n",
      " '(1, 2)': CTRTestResult(statistics=(Statistics(mean=0.14818808679539147, std=0.010292862566116353, nobs=333), Statistics(mean=0.14806373176406315, std=0.010471718112864363, nobs=334)), ttest_result=TtestResult(statistic=0.15466102708255622, pvalue=0.8771354836628056, is_rejected=False))}\n"
     ]
    }
   ],
   "source": [
    "from pprint import pprint\n",
    "\n",
    "for test_name, ab_test_result in ab_test_results.items():\n",
    "    print(test_name)\n",
    "    pprint(ab_test_result)"
   ]
  },
  {
   "cell_type": "code",
   "execution_count": null,
   "metadata": {},
   "outputs": [],
   "source": []
  }
 ],
 "metadata": {
  "kernelspec": {
   "display_name": "Python 3.10.7 ('.venv': poetry)",
   "language": "python",
   "name": "python3"
  },
  "language_info": {
   "codemirror_mode": {
    "name": "ipython",
    "version": 3
   },
   "file_extension": ".py",
   "mimetype": "text/x-python",
   "name": "python",
   "nbconvert_exporter": "python",
   "pygments_lexer": "ipython3",
   "version": "3.10.8"
  },
  "orig_nbformat": 4,
  "vscode": {
   "interpreter": {
    "hash": "715ddbbd74c0ada6a0637ba36419418757d2ab74dd8132caf075d7a2f4571c43"
   }
  }
 },
 "nbformat": 4,
 "nbformat_minor": 2
}
