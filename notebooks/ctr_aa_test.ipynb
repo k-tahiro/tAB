{
 "cells": [
  {
   "cell_type": "code",
   "execution_count": 1,
   "metadata": {},
   "outputs": [],
   "source": [
    "import numpy as np\n",
    "import pandas as pd"
   ]
  },
  {
   "cell_type": "code",
   "execution_count": 2,
   "metadata": {},
   "outputs": [
    {
     "data": {
      "text/html": [
       "<div>\n",
       "<style scoped>\n",
       "    .dataframe tbody tr th:only-of-type {\n",
       "        vertical-align: middle;\n",
       "    }\n",
       "\n",
       "    .dataframe tbody tr th {\n",
       "        vertical-align: top;\n",
       "    }\n",
       "\n",
       "    .dataframe thead th {\n",
       "        text-align: right;\n",
       "    }\n",
       "</style>\n",
       "<table border=\"1\" class=\"dataframe\">\n",
       "  <thead>\n",
       "    <tr style=\"text-align: right;\">\n",
       "      <th></th>\n",
       "      <th>user_id</th>\n",
       "      <th>n_imp</th>\n",
       "      <th>n_click</th>\n",
       "    </tr>\n",
       "  </thead>\n",
       "  <tbody>\n",
       "    <tr>\n",
       "      <th>0</th>\n",
       "      <td>680</td>\n",
       "      <td>75</td>\n",
       "      <td>12</td>\n",
       "    </tr>\n",
       "    <tr>\n",
       "      <th>1</th>\n",
       "      <td>88</td>\n",
       "      <td>94</td>\n",
       "      <td>17</td>\n",
       "    </tr>\n",
       "    <tr>\n",
       "      <th>2</th>\n",
       "      <td>601</td>\n",
       "      <td>93</td>\n",
       "      <td>5</td>\n",
       "    </tr>\n",
       "    <tr>\n",
       "      <th>3</th>\n",
       "      <td>527</td>\n",
       "      <td>24</td>\n",
       "      <td>7</td>\n",
       "    </tr>\n",
       "    <tr>\n",
       "      <th>4</th>\n",
       "      <td>759</td>\n",
       "      <td>58</td>\n",
       "      <td>6</td>\n",
       "    </tr>\n",
       "    <tr>\n",
       "      <th>...</th>\n",
       "      <td>...</td>\n",
       "      <td>...</td>\n",
       "      <td>...</td>\n",
       "    </tr>\n",
       "    <tr>\n",
       "      <th>99995</th>\n",
       "      <td>810</td>\n",
       "      <td>84</td>\n",
       "      <td>11</td>\n",
       "    </tr>\n",
       "    <tr>\n",
       "      <th>99996</th>\n",
       "      <td>670</td>\n",
       "      <td>68</td>\n",
       "      <td>0</td>\n",
       "    </tr>\n",
       "    <tr>\n",
       "      <th>99997</th>\n",
       "      <td>23</td>\n",
       "      <td>30</td>\n",
       "      <td>7</td>\n",
       "    </tr>\n",
       "    <tr>\n",
       "      <th>99998</th>\n",
       "      <td>961</td>\n",
       "      <td>64</td>\n",
       "      <td>5</td>\n",
       "    </tr>\n",
       "    <tr>\n",
       "      <th>99999</th>\n",
       "      <td>590</td>\n",
       "      <td>53</td>\n",
       "      <td>5</td>\n",
       "    </tr>\n",
       "  </tbody>\n",
       "</table>\n",
       "<p>100000 rows × 3 columns</p>\n",
       "</div>"
      ],
      "text/plain": [
       "       user_id  n_imp  n_click\n",
       "0          680     75       12\n",
       "1           88     94       17\n",
       "2          601     93        5\n",
       "3          527     24        7\n",
       "4          759     58        6\n",
       "...        ...    ...      ...\n",
       "99995      810     84       11\n",
       "99996      670     68        0\n",
       "99997       23     30        7\n",
       "99998      961     64        5\n",
       "99999      590     53        5\n",
       "\n",
       "[100000 rows x 3 columns]"
      ]
     },
     "execution_count": 2,
     "metadata": {},
     "output_type": "execute_result"
    }
   ],
   "source": [
    "df = pd.DataFrame(\n",
    "    dict(\n",
    "        user_id=np.random.randint(0, 1000, size=100000),\n",
    "        n_imp=np.random.randint(1, 101, size=100000),\n",
    "    )\n",
    ")\n",
    "df[\"n_click\"] = df.n_imp.apply(lambda x: np.random.randint(0, int(np.ceil((x+1)*.3))))\n",
    "df"
   ]
  },
  {
   "cell_type": "code",
   "execution_count": 3,
   "metadata": {},
   "outputs": [],
   "source": [
    "from t_ab.aa import AATest\n",
    "from t_ab.ctr import ImpressionBasedCTRTtest, UserBasedCTRTtest\n",
    "\n",
    "ibtest = ImpressionBasedCTRTtest(\"user_id\", \"n_imp\", \"n_click\")\n",
    "ubtest = UserBasedCTRTtest(\"user_id\", \"n_imp\", \"n_click\")\n",
    "aa_test = AATest(ibtest, ubtest)"
   ]
  },
  {
   "cell_type": "code",
   "execution_count": 4,
   "metadata": {},
   "outputs": [],
   "source": [
    "from typing import Generator\n",
    "from sklearn.model_selection import train_test_split\n",
    "\n",
    "\n",
    "def split_data(values: np.ndarray, n: int, random_state: int = 42) -> Generator[np.ndarray, None, None]:\n",
    "    for i in range(n-1):\n",
    "        vs, values = train_test_split(values, train_size=1/(n-i), random_state=random_state)\n",
    "        yield vs\n",
    "    yield values\n",
    "\n",
    "\n",
    "def dfs_loader(df: pd.DataFrame, col: str, n_groups: int, n_tests: int=1000) -> Generator[list[pd.DataFrame], None, None]:\n",
    "    values = df[col].unique()\n",
    "    for i in range(n_tests):\n",
    "        yield [df[df[col].isin(vs)] for vs in split_data(values, n_groups, i)]"
   ]
  },
  {
   "cell_type": "code",
   "execution_count": 5,
   "metadata": {},
   "outputs": [],
   "source": [
    "aa_test_results = aa_test(dfs_loader(df, \"user_id\", 3, 1000))"
   ]
  },
  {
   "cell_type": "code",
   "execution_count": 6,
   "metadata": {},
   "outputs": [
    {
     "name": "stdout",
     "output_type": "stream",
     "text": [
      "n_click / n_imp (Impression-Based)\n",
      "(array([False, False, False]), array([0.98066104, 0.98066104, 0.90229819]), 0.016952427508441503, 0.016666666666666666) False\n",
      "n_click / n_imp (User-Based)\n",
      "(array([False, False, False]), array([0.91907445, 0.69803535, 0.49664311]), 0.016952427508441503, 0.016666666666666666) False\n"
     ]
    }
   ],
   "source": [
    "for test_name, aa_test_result in aa_test_results.items():\n",
    "    print(test_name)\n",
    "    print(aa_test_result.multipletests_result, aa_test_result.is_rejected)"
   ]
  },
  {
   "cell_type": "code",
   "execution_count": 7,
   "metadata": {},
   "outputs": [],
   "source": [
    "from t_ab.ab import ABTest\n",
    "\n",
    "ab_test = ABTest(ibtest, ubtest)"
   ]
  },
  {
   "cell_type": "code",
   "execution_count": 8,
   "metadata": {},
   "outputs": [],
   "source": [
    "for dfs in dfs_loader(df, \"user_id\", 3):\n",
    "    ab_test_results = ab_test(dfs)\n",
    "    break"
   ]
  },
  {
   "cell_type": "code",
   "execution_count": 9,
   "metadata": {},
   "outputs": [
    {
     "name": "stdout",
     "output_type": "stream",
     "text": [
      "n_click / n_imp (Impression-Based)\n",
      "{'(0, 1)': CTRTestResult(statistics=(Statistics(mean=0.14748434553765621, std=0.011043581635527823, nobs=333), Statistics(mean=0.14719853699196322, std=0.010148118603448702, nobs=333)), ttest_result=TtestResult(statistic=0.3477436020625978, pvalue=0.7281429525900802, is_rejected=False)),\n",
      " '(0, 2)': CTRTestResult(statistics=(Statistics(mean=0.14748434553765621, std=0.011043581635527823, nobs=333), Statistics(mean=0.14796773785685513, std=0.01039992035177221, nobs=334)), ttest_result=TtestResult(statistic=-0.5819564517531648, pvalue=0.5607932439174669, is_rejected=False)),\n",
      " '(1, 2)': CTRTestResult(statistics=(Statistics(mean=0.14719853699196322, std=0.010148118603448702, nobs=333), Statistics(mean=0.14796773785685513, std=0.01039992035177221, nobs=334)), ttest_result=TtestResult(statistic=-0.966698856063126, pvalue=0.33404602585415644, is_rejected=False))}\n",
      "n_click / n_imp (User-Based)\n",
      "{'(0, 1)': CTRTestResult(statistics=(Statistics(mean=0.14736459018089001, std=0.011078127498296205, nobs=333), Statistics(mean=0.14724188480627015, std=0.01020514525976633, nobs=333)), ttest_result=TtestResult(statistic=0.14866107327909986, pvalue=0.8818662145997608, is_rejected=False)),\n",
      " '(0, 2)': CTRTestResult(statistics=(Statistics(mean=0.14736459018089001, std=0.011078127498296205, nobs=333), Statistics(mean=0.14801970250957763, std=0.01037482867025701, nobs=334)), ttest_result=TtestResult(statistic=-0.788277610406761, pvalue=0.43081524358234347, is_rejected=False)),\n",
      " '(1, 2)': CTRTestResult(statistics=(Statistics(mean=0.14724188480627015, std=0.01020514525976633, nobs=333), Statistics(mean=0.14801970250957763, std=0.01037482867025701, nobs=334)), ttest_result=TtestResult(statistic=-0.9760572383720113, pvalue=0.3293910219661126, is_rejected=False))}\n"
     ]
    }
   ],
   "source": [
    "from pprint import pprint\n",
    "\n",
    "for test_name, ab_test_result in ab_test_results.items():\n",
    "    print(test_name)\n",
    "    pprint(ab_test_result)"
   ]
  },
  {
   "cell_type": "code",
   "execution_count": null,
   "metadata": {},
   "outputs": [],
   "source": []
  }
 ],
 "metadata": {
  "kernelspec": {
   "display_name": "Python 3.10.7 ('.venv': poetry)",
   "language": "python",
   "name": "python3"
  },
  "language_info": {
   "codemirror_mode": {
    "name": "ipython",
    "version": 3
   },
   "file_extension": ".py",
   "mimetype": "text/x-python",
   "name": "python",
   "nbconvert_exporter": "python",
   "pygments_lexer": "ipython3",
   "version": "3.10.8"
  },
  "orig_nbformat": 4,
  "vscode": {
   "interpreter": {
    "hash": "715ddbbd74c0ada6a0637ba36419418757d2ab74dd8132caf075d7a2f4571c43"
   }
  }
 },
 "nbformat": 4,
 "nbformat_minor": 2
}
